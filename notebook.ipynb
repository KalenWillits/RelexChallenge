{
  "cells": [
    {
      "cell_type": "markdown",
      "source": [
        "# Relax Challenge Notebook\n",
        "## Objectives:\n",
        "*\"Defining an \"adopted user\" as a user who has logged into the product on three separate days in at least one seven­day period , identify which factors predict future user adoption.\"*\n"
      ],
      "metadata": {
        "nteract": {
          "transient": {
            "deleting": false
          }
        }
      }
    },
    {
      "cell_type": "markdown",
      "source": [
        "### Table of Contents:\n",
        "- [Environment](#Environment)\n",
        "- [Data Import](#Data-Import)\n",
        "- [Building Week & Day Columns](Building-Week-&-Day-Columns)\n",
        "- [Defining An Adopted User](Defining-An-Adopted-User)\n",
        "- [Data Processing](#Data-Processing)\n",
        "- [Visualization](#Visualization)\n",
        "- [Observations](#Observations)\n",
        "- [Insights](#Insights)\n",
        "\n"
      ],
      "metadata": {
        "nteract": {
          "transient": {
            "deleting": false
          }
        }
      }
    },
    {
      "cell_type": "markdown",
      "source": [
        "### Environment\n"
      ],
      "metadata": {
        "nteract": {
          "transient": {
            "deleting": false
          }
        }
      }
    },
    {
      "cell_type": "code",
      "source": [
        "import numpy as np\n",
        "import matplotlib.pyplot as plt\n",
        "import seaborn as sns\n",
        "import pandas as pd\n",
        "from tqdm import tqdm\n",
        "from library import *\n",
        "\n",
        "cd_data = 'data/'\n",
        "cd_figures = 'figures/'\n"
      ],
      "outputs": [],
      "execution_count": null,
      "metadata": {
        "collapsed": true,
        "jupyter": {
          "source_hidden": false,
          "outputs_hidden": false
        },
        "nteract": {
          "transient": {
            "deleting": false
          }
        }
      }
    },
    {
      "cell_type": "markdown",
      "source": [
        "### Data Import\n"
      ],
      "metadata": {
        "nteract": {
          "transient": {
            "deleting": false
          }
        }
      }
    },
    {
      "cell_type": "code",
      "source": [
        "users = pd.read_csv(cd_data+'takehome_users.csv',  encoding = \"ISO-8859-1\")\n",
        "user_eng = pd.read_csv(cd_data+'takehome_user_engagement.csv')\n"
      ],
      "outputs": [],
      "execution_count": null,
      "metadata": {
        "collapsed": true,
        "jupyter": {
          "source_hidden": false,
          "outputs_hidden": false
        },
        "nteract": {
          "transient": {
            "deleting": false
          }
        }
      }
    },
    {
      "cell_type": "markdown",
      "source": [
        "### Building Week & Day Columns\n"
      ],
      "metadata": {
        "nteract": {
          "transient": {
            "deleting": false
          }
        }
      }
    },
    {
      "cell_type": "code",
      "source": [
        "user_eng['date_time'] = pd.to_datetime(user_eng['time_stamp'])\n",
        "user_eng['year'] = user_eng['date_time'].dt.year\n",
        "user_eng['month'] = user_eng['date_time'].dt.month\n",
        "user_eng['week'] = user_eng['date_time'].dt.week\n",
        "user_eng['day_of_week'] = user_eng['date_time'].dt.weekday\n"
      ],
      "outputs": [],
      "execution_count": null,
      "metadata": {
        "collapsed": true,
        "jupyter": {
          "source_hidden": false,
          "outputs_hidden": false
        },
        "nteract": {
          "transient": {
            "deleting": false
          }
        }
      }
    },
    {
      "cell_type": "markdown",
      "source": [
        "### Defining An Adopted User"
      ],
      "metadata": {
        "nteract": {
          "transient": {
            "deleting": false
          }
        }
      }
    },
    {
      "cell_type": "code",
      "source": [
        "user_date_id = define_date_id(user_eng)\n",
        "user_logins = user_activity(user_date_id, limit=2500)\n",
        "user_adopt = define_adopted_users(user_logins)\n"
      ],
      "outputs": [],
      "execution_count": null,
      "metadata": {
        "collapsed": true,
        "jupyter": {
          "source_hidden": false,
          "outputs_hidden": false
        },
        "nteract": {
          "transient": {
            "deleting": false
          }
        }
      }
    },
    {
      "cell_type": "code",
      "source": [
        "# __aliasing & merge__\n",
        "activity = user_adopt\n",
        "# activty = activity['adopted'].apply(int)\n",
        "adopted = activity[['user_id', 'adopted']].drop_duplicates()\n",
        "users.rename(columns={'object_id':'user_id'}, inplace=True)\n",
        "users_merged = users.merge(adopted, on='user_id', how='outer')\n",
        "\n"
      ],
      "outputs": [],
      "execution_count": null,
      "metadata": {
        "collapsed": true,
        "jupyter": {
          "source_hidden": false,
          "outputs_hidden": false
        },
        "nteract": {
          "transient": {
            "deleting": false
          }
        }
      }
    },
    {
      "cell_type": "markdown",
      "source": [
        "### Data Processing\n"
      ],
      "metadata": {
        "nteract": {
          "transient": {
            "deleting": false
          }
        }
      }
    },
    {
      "cell_type": "code",
      "source": [
        "# __Checking which features have the most adopted users__\n",
        "\n",
        "# Grabbing only the columns that I need\n",
        "adopted = activity[['user_id', 'adopted']].drop_duplicates()\n",
        "\n",
        "# Merging the data sets\n",
        "users.rename(columns={'object_id':'user_id'}, inplace=True)\n",
        "users_merged = users.merge(adopted, on='user_id', how='outer')\n",
        "\n",
        "# Alias to shorten code.\n",
        "df = users_merged\n",
        "df['adopted'] = pd.to_numeric(df['adopted'])\n",
        "\n",
        "# Assigning binary values\n",
        "df['invited_by_user_id'][df['invited_by_user_id'] > 0] = 1\n",
        "df['invited_by_user_id'].fillna(0, inplace=True)\n",
        "\n",
        "# One Hot encoding\n",
        "dum_df = pd.get_dummies(df, columns=['creation_source'], dtype='int')\n",
        "\n",
        "# removing uneeded columns\n",
        "dum_df = dum_df[['opted_in_to_mailing_list',\n",
        " 'enabled_for_marketing_drip',\n",
        " 'org_id',\n",
        " 'invited_by_user_id',\n",
        " 'adopted',\n",
        " 'creation_source_GUEST_INVITE',\n",
        " 'creation_source_ORG_INVITE',\n",
        " 'creation_source_PERSONAL_PROJECTS',\n",
        " 'creation_source_SIGNUP',\n",
        " 'creation_source_SIGNUP_GOOGLE_AUTH']]\n",
        "# Count the adopted users of a feature\n",
        "storage = []\n",
        "for col in dum_df.columns:\n",
        "    storage.append(dum_df[(dum_df[col] == True) & (dum_df['adopted'] == True)][col].sum())\n",
        "\n",
        "column_names = dum_df.columns.to_list()\n",
        "\n",
        "# Saving data\n",
        "dum_df.to_csv(cd_data+'dum_df.csv', index=False)\n",
        "\n"
      ],
      "outputs": [],
      "execution_count": null,
      "metadata": {
        "collapsed": true,
        "jupyter": {
          "source_hidden": false,
          "outputs_hidden": false
        },
        "nteract": {
          "transient": {
            "deleting": false
          }
        }
      }
    },
    {
      "cell_type": "markdown",
      "source": [
        "### Visualization\n"
      ],
      "metadata": {
        "nteract": {
          "transient": {
            "deleting": false
          }
        }
      }
    },
    {
      "cell_type": "code",
      "source": [
        "data_dict = dict(zip(column_names, storage))\n",
        "data_df = pd.DataFrame(data_dict, index=[0])\n",
        "data_df_transposed = data_df.transpose()\n",
        "data_df_transposed.columns = ['adopted']\n",
        "fig_title = 'adopted_users_by_feature'\n",
        "plt.figure(figsize=(10,7))\n",
        "plt.title(fig_title.replace('_', ' ').title())\n",
        "plt.barh(data_df_transposed.index, width=data_df_transposed['adopted'], color='black')\n",
        "plt.savefig(cd_figures+fig_title+'.png', transparent=True)\n",
        "data_df_transposed.to_csv(cd_data+'data_df_transposed.csv', index=False)\n",
        "\n"
      ],
      "outputs": [],
      "execution_count": null,
      "metadata": {
        "collapsed": true,
        "jupyter": {
          "source_hidden": false,
          "outputs_hidden": false
        },
        "nteract": {
          "transient": {
            "deleting": false
          }
        }
      }
    },
    {
      "cell_type": "markdown",
      "source": [
        "### Observations\n",
        "The generated bar chart shows what features bring in the most adopted users.\n",
        "Ignoring the adopted user count feature, the invited users and users that are\n",
        "opted into the mailing list carry the most adoptions. In contrast, the creation source of creation source\n",
        "of personal projects and organizations do not contribute to creating user adoptions."
      ],
      "metadata": {
        "nteract": {
          "transient": {
            "deleting": false
          }
        }
      }
    },
    {
      "cell_type": "markdown",
      "source": [
        "### Insights\n",
        "Users inviting users and users that stay on the mailing list become adopted users. "
      ],
      "metadata": {
        "nteract": {
          "transient": {
            "deleting": false
          }
        }
      }
    }
  ],
  "metadata": {
    "kernelspec": {
      "argv": [
        "/home/kalen/anaconda3/bin/python",
        "-m",
        "ipykernel_launcher",
        "-f",
        "{connection_file}"
      ],
      "display_name": "Python 3",
      "language": "python",
      "name": "python3"
    }
  },
  "nbformat": 4,
  "nbformat_minor": 0
}